{
 "cells": [
  {
   "cell_type": "markdown",
   "metadata": {},
   "source": [
    "# <a id='head'>Содержание проекта</a>\n",
    "<a href='#01'>Описание проекта</a>  \n",
    "<a href='#02'>import</a>\n",
    "1. <a href='#1'>Загрузка и подготовка данных</a>\n",
    "2. <a href='#2'>Обучение и проверка модели</a>\n",
    "3. <a href='#3'>Подготовка к расчёту прибыли</a>\n",
    "4. <a href='#4'>Расчёт прибыли и рисков </a>\n",
    "5. <a href='#5'>Bootstrap</a>   \n",
    "\n",
    "<a href='#00'>Вывод</a>"
   ]
  },
  {
   "cell_type": "markdown",
   "metadata": {},
   "source": [
    "# <a id='01'>Описание проекта</a> \n",
    "<a href='#head'>[head]</a>"
   ]
  },
  {
   "cell_type": "markdown",
   "metadata": {},
   "source": [
    "Предоставлены пробы нефти в трёх регионах: в каждом 10 000 месторождений, где измерили качество нефти и объём её запасов. Необходимо построить модель машинного обучения, которая поможет определить регион, где добыча принесёт наибольшую прибыль.\n",
    "\n",
    "Описание данных\n",
    "id — уникальный идентификатор скважины;\n",
    "f0, f1, f2 — три признака точек;\n",
    "product — объём запасов в скважине (тыс. баррелей).\n",
    "\n",
    "Условия задачи:\n",
    "При разведке региона исследуют 500 точек, из которых с помощью машинного обучения выбирают 200 лучших для разработки.\n",
    "Бюджет на разработку скважин в регионе — 10 млрд рублей.\n",
    "При цене один баррель сырья - 450 рублей дохода. Доход с каждой единицы продукта составляет 450 тыс. рублей, поскольку объём указан в тысячах баррелей.\n",
    "Необходимо оставить лишь те регионы, в которых вероятность убытков меньше 2.5%."
   ]
  },
  {
   "cell_type": "markdown",
   "metadata": {},
   "source": [
    "# <a id='02'>import</a> \n",
    "<a href='#head'>[head]</a>"
   ]
  },
  {
   "cell_type": "code",
   "execution_count": 404,
   "metadata": {},
   "outputs": [],
   "source": [
    "import pandas as pd\n",
    "import numpy as np\n",
    "from IPython.display import display\n",
    "from sklearn.model_selection import train_test_split\n",
    "from sklearn.linear_model import LinearRegression\n",
    "from sklearn.preprocessing import StandardScaler\n",
    "from sklearn.metrics import mean_squared_error"
   ]
  },
  {
   "cell_type": "markdown",
   "metadata": {},
   "source": [
    "# <a id='1'>1. Загрузка и подготовка данных</a> \n",
    "<a href='#head'>[head]</a>"
   ]
  },
  {
   "cell_type": "code",
   "execution_count": 405,
   "metadata": {},
   "outputs": [
    {
     "data": {
      "text/html": [
       "<div>\n",
       "<style scoped>\n",
       "    .dataframe tbody tr th:only-of-type {\n",
       "        vertical-align: middle;\n",
       "    }\n",
       "\n",
       "    .dataframe tbody tr th {\n",
       "        vertical-align: top;\n",
       "    }\n",
       "\n",
       "    .dataframe thead th {\n",
       "        text-align: right;\n",
       "    }\n",
       "</style>\n",
       "<table border=\"1\" class=\"dataframe\">\n",
       "  <thead>\n",
       "    <tr style=\"text-align: right;\">\n",
       "      <th></th>\n",
       "      <th>id</th>\n",
       "      <th>f0</th>\n",
       "      <th>f1</th>\n",
       "      <th>f2</th>\n",
       "      <th>product</th>\n",
       "    </tr>\n",
       "  </thead>\n",
       "  <tbody>\n",
       "    <tr>\n",
       "      <th>0</th>\n",
       "      <td>txEyH</td>\n",
       "      <td>0.705745</td>\n",
       "      <td>-0.497823</td>\n",
       "      <td>1.221170</td>\n",
       "      <td>105.280062</td>\n",
       "    </tr>\n",
       "    <tr>\n",
       "      <th>1</th>\n",
       "      <td>2acmU</td>\n",
       "      <td>1.334711</td>\n",
       "      <td>-0.340164</td>\n",
       "      <td>4.365080</td>\n",
       "      <td>73.037750</td>\n",
       "    </tr>\n",
       "    <tr>\n",
       "      <th>2</th>\n",
       "      <td>409Wp</td>\n",
       "      <td>1.022732</td>\n",
       "      <td>0.151990</td>\n",
       "      <td>1.419926</td>\n",
       "      <td>85.265647</td>\n",
       "    </tr>\n",
       "    <tr>\n",
       "      <th>3</th>\n",
       "      <td>iJLyR</td>\n",
       "      <td>-0.032172</td>\n",
       "      <td>0.139033</td>\n",
       "      <td>2.978566</td>\n",
       "      <td>168.620776</td>\n",
       "    </tr>\n",
       "    <tr>\n",
       "      <th>4</th>\n",
       "      <td>Xdl7t</td>\n",
       "      <td>1.988431</td>\n",
       "      <td>0.155413</td>\n",
       "      <td>4.751769</td>\n",
       "      <td>154.036647</td>\n",
       "    </tr>\n",
       "  </tbody>\n",
       "</table>\n",
       "</div>"
      ],
      "text/plain": [
       "      id        f0        f1        f2     product\n",
       "0  txEyH  0.705745 -0.497823  1.221170  105.280062\n",
       "1  2acmU  1.334711 -0.340164  4.365080   73.037750\n",
       "2  409Wp  1.022732  0.151990  1.419926   85.265647\n",
       "3  iJLyR -0.032172  0.139033  2.978566  168.620776\n",
       "4  Xdl7t  1.988431  0.155413  4.751769  154.036647"
      ]
     },
     "metadata": {},
     "output_type": "display_data"
    },
    {
     "name": "stdout",
     "output_type": "stream",
     "text": [
      "\n",
      "<class 'pandas.core.frame.DataFrame'>\n",
      "RangeIndex: 100000 entries, 0 to 99999\n",
      "Data columns (total 5 columns):\n",
      " #   Column   Non-Null Count   Dtype  \n",
      "---  ------   --------------   -----  \n",
      " 0   id       100000 non-null  object \n",
      " 1   f0       100000 non-null  float64\n",
      " 2   f1       100000 non-null  float64\n",
      " 3   f2       100000 non-null  float64\n",
      " 4   product  100000 non-null  float64\n",
      "dtypes: float64(4), object(1)\n",
      "memory usage: 3.8+ MB\n",
      "None\n"
     ]
    }
   ],
   "source": [
    "geo_0 = pd.read_csv('/datasets/geo_data_0.csv')\n",
    "display(geo_0.head())\n",
    "print()\n",
    "print(geo_0.info())"
   ]
  },
  {
   "cell_type": "code",
   "execution_count": 406,
   "metadata": {},
   "outputs": [
    {
     "data": {
      "text/html": [
       "<div>\n",
       "<style scoped>\n",
       "    .dataframe tbody tr th:only-of-type {\n",
       "        vertical-align: middle;\n",
       "    }\n",
       "\n",
       "    .dataframe tbody tr th {\n",
       "        vertical-align: top;\n",
       "    }\n",
       "\n",
       "    .dataframe thead th {\n",
       "        text-align: right;\n",
       "    }\n",
       "</style>\n",
       "<table border=\"1\" class=\"dataframe\">\n",
       "  <thead>\n",
       "    <tr style=\"text-align: right;\">\n",
       "      <th></th>\n",
       "      <th>id</th>\n",
       "      <th>f0</th>\n",
       "      <th>f1</th>\n",
       "      <th>f2</th>\n",
       "      <th>product</th>\n",
       "    </tr>\n",
       "  </thead>\n",
       "  <tbody>\n",
       "    <tr>\n",
       "      <th>0</th>\n",
       "      <td>kBEdx</td>\n",
       "      <td>-15.001348</td>\n",
       "      <td>-8.276000</td>\n",
       "      <td>-0.005876</td>\n",
       "      <td>3.179103</td>\n",
       "    </tr>\n",
       "    <tr>\n",
       "      <th>1</th>\n",
       "      <td>62mP7</td>\n",
       "      <td>14.272088</td>\n",
       "      <td>-3.475083</td>\n",
       "      <td>0.999183</td>\n",
       "      <td>26.953261</td>\n",
       "    </tr>\n",
       "    <tr>\n",
       "      <th>2</th>\n",
       "      <td>vyE1P</td>\n",
       "      <td>6.263187</td>\n",
       "      <td>-5.948386</td>\n",
       "      <td>5.001160</td>\n",
       "      <td>134.766305</td>\n",
       "    </tr>\n",
       "    <tr>\n",
       "      <th>3</th>\n",
       "      <td>KcrkZ</td>\n",
       "      <td>-13.081196</td>\n",
       "      <td>-11.506057</td>\n",
       "      <td>4.999415</td>\n",
       "      <td>137.945408</td>\n",
       "    </tr>\n",
       "    <tr>\n",
       "      <th>4</th>\n",
       "      <td>AHL4O</td>\n",
       "      <td>12.702195</td>\n",
       "      <td>-8.147433</td>\n",
       "      <td>5.004363</td>\n",
       "      <td>134.766305</td>\n",
       "    </tr>\n",
       "  </tbody>\n",
       "</table>\n",
       "</div>"
      ],
      "text/plain": [
       "      id         f0         f1        f2     product\n",
       "0  kBEdx -15.001348  -8.276000 -0.005876    3.179103\n",
       "1  62mP7  14.272088  -3.475083  0.999183   26.953261\n",
       "2  vyE1P   6.263187  -5.948386  5.001160  134.766305\n",
       "3  KcrkZ -13.081196 -11.506057  4.999415  137.945408\n",
       "4  AHL4O  12.702195  -8.147433  5.004363  134.766305"
      ]
     },
     "metadata": {},
     "output_type": "display_data"
    },
    {
     "name": "stdout",
     "output_type": "stream",
     "text": [
      "\n",
      "<class 'pandas.core.frame.DataFrame'>\n",
      "RangeIndex: 100000 entries, 0 to 99999\n",
      "Data columns (total 5 columns):\n",
      " #   Column   Non-Null Count   Dtype  \n",
      "---  ------   --------------   -----  \n",
      " 0   id       100000 non-null  object \n",
      " 1   f0       100000 non-null  float64\n",
      " 2   f1       100000 non-null  float64\n",
      " 3   f2       100000 non-null  float64\n",
      " 4   product  100000 non-null  float64\n",
      "dtypes: float64(4), object(1)\n",
      "memory usage: 3.8+ MB\n",
      "None\n"
     ]
    }
   ],
   "source": [
    "geo_1 = pd.read_csv('/datasets/geo_data_1.csv')\n",
    "display(geo_1.head())\n",
    "print()\n",
    "print(geo_1.info())"
   ]
  },
  {
   "cell_type": "code",
   "execution_count": 407,
   "metadata": {},
   "outputs": [
    {
     "data": {
      "text/html": [
       "<div>\n",
       "<style scoped>\n",
       "    .dataframe tbody tr th:only-of-type {\n",
       "        vertical-align: middle;\n",
       "    }\n",
       "\n",
       "    .dataframe tbody tr th {\n",
       "        vertical-align: top;\n",
       "    }\n",
       "\n",
       "    .dataframe thead th {\n",
       "        text-align: right;\n",
       "    }\n",
       "</style>\n",
       "<table border=\"1\" class=\"dataframe\">\n",
       "  <thead>\n",
       "    <tr style=\"text-align: right;\">\n",
       "      <th></th>\n",
       "      <th>id</th>\n",
       "      <th>f0</th>\n",
       "      <th>f1</th>\n",
       "      <th>f2</th>\n",
       "      <th>product</th>\n",
       "    </tr>\n",
       "  </thead>\n",
       "  <tbody>\n",
       "    <tr>\n",
       "      <th>0</th>\n",
       "      <td>fwXo0</td>\n",
       "      <td>-1.146987</td>\n",
       "      <td>0.963328</td>\n",
       "      <td>-0.828965</td>\n",
       "      <td>27.758673</td>\n",
       "    </tr>\n",
       "    <tr>\n",
       "      <th>1</th>\n",
       "      <td>WJtFt</td>\n",
       "      <td>0.262778</td>\n",
       "      <td>0.269839</td>\n",
       "      <td>-2.530187</td>\n",
       "      <td>56.069697</td>\n",
       "    </tr>\n",
       "    <tr>\n",
       "      <th>2</th>\n",
       "      <td>ovLUW</td>\n",
       "      <td>0.194587</td>\n",
       "      <td>0.289035</td>\n",
       "      <td>-5.586433</td>\n",
       "      <td>62.871910</td>\n",
       "    </tr>\n",
       "    <tr>\n",
       "      <th>3</th>\n",
       "      <td>q6cA6</td>\n",
       "      <td>2.236060</td>\n",
       "      <td>-0.553760</td>\n",
       "      <td>0.930038</td>\n",
       "      <td>114.572842</td>\n",
       "    </tr>\n",
       "    <tr>\n",
       "      <th>4</th>\n",
       "      <td>WPMUX</td>\n",
       "      <td>-0.515993</td>\n",
       "      <td>1.716266</td>\n",
       "      <td>5.899011</td>\n",
       "      <td>149.600746</td>\n",
       "    </tr>\n",
       "  </tbody>\n",
       "</table>\n",
       "</div>"
      ],
      "text/plain": [
       "      id        f0        f1        f2     product\n",
       "0  fwXo0 -1.146987  0.963328 -0.828965   27.758673\n",
       "1  WJtFt  0.262778  0.269839 -2.530187   56.069697\n",
       "2  ovLUW  0.194587  0.289035 -5.586433   62.871910\n",
       "3  q6cA6  2.236060 -0.553760  0.930038  114.572842\n",
       "4  WPMUX -0.515993  1.716266  5.899011  149.600746"
      ]
     },
     "metadata": {},
     "output_type": "display_data"
    },
    {
     "name": "stdout",
     "output_type": "stream",
     "text": [
      "\n",
      "<class 'pandas.core.frame.DataFrame'>\n",
      "RangeIndex: 100000 entries, 0 to 99999\n",
      "Data columns (total 5 columns):\n",
      " #   Column   Non-Null Count   Dtype  \n",
      "---  ------   --------------   -----  \n",
      " 0   id       100000 non-null  object \n",
      " 1   f0       100000 non-null  float64\n",
      " 2   f1       100000 non-null  float64\n",
      " 3   f2       100000 non-null  float64\n",
      " 4   product  100000 non-null  float64\n",
      "dtypes: float64(4), object(1)\n",
      "memory usage: 3.8+ MB\n",
      "None\n"
     ]
    }
   ],
   "source": [
    "geo_2 = pd.read_csv('/datasets/geo_data_2.csv')\n",
    "display(geo_2.head())\n",
    "print()\n",
    "print(geo_2.info())"
   ]
  },
  {
   "cell_type": "markdown",
   "metadata": {},
   "source": [
    "Пропуски в данных отсутствуют, тип соответствуют данным.\n",
    "Приводить численные признаки ('f0', 'f1', 'f2') к одному масштабу смысла нет, так как они, судя по всему и есть одного масштаба."
   ]
  },
  {
   "cell_type": "markdown",
   "metadata": {},
   "source": [
    "Разделим данные на тестовую и валидационную части для каждого региона. А также уберем столбец \"id\", так как он не участвует в обучении модели."
   ]
  },
  {
   "cell_type": "code",
   "execution_count": 408,
   "metadata": {},
   "outputs": [],
   "source": [
    "def data_split(data):\n",
    "    data = data.drop('id', axis=1)\n",
    "    target = data['product']\n",
    "    features = data.drop('product', axis=1)\n",
    "\n",
    "    features_train, features_valid, target_train, target_valid = train_test_split(\n",
    "        features, target, test_size=0.25, random_state=42)\n",
    "    return features_train, features_valid, target_train, target_valid\n",
    "\n",
    "features_train_geo_0, features_valid_geo_0, target_train_geo_0, target_valid_geo_0 = data_split(geo_0)\n",
    "features_train_geo_1, features_valid_geo_1, target_train_geo_1, target_valid_geo_1 = data_split(geo_1)\n",
    "features_train_geo_2, features_valid_geo_2, target_train_geo_2, target_valid_geo_2 = data_split(geo_2)"
   ]
  },
  {
   "cell_type": "markdown",
   "metadata": {},
   "source": [
    "# <a id='2'>2. Обучение и проверка модели</a> \n",
    "<a href='#head'>[head]</a>"
   ]
  },
  {
   "cell_type": "code",
   "execution_count": 409,
   "metadata": {},
   "outputs": [
    {
     "name": "stdout",
     "output_type": "stream",
     "text": [
      "Средний запас сырья 'geo_0': 92.40 | RMSE_geo_0: 37.76\n",
      "Средний запас сырья 'geo_1': 68.71 | RMSE_geo_1: 0.89\n",
      "Средний запас сырья 'geo_2': 94.77 | RMSE_geo_2: 40.15\n"
     ]
    }
   ],
   "source": [
    "def model_linear(features_train, features_valid, target_train, target_valid):\n",
    "    model = LinearRegression()\n",
    "    model.fit(features_train, target_train)\n",
    "    predictions = model.predict(features_valid)\n",
    "    predictions = pd.Series(predictions)\n",
    "    predictions.index = features_valid.index\n",
    "    answers = target_valid\n",
    "    mse = mean_squared_error(answers, predictions)\n",
    "    rmse = mse ** 0.5\n",
    "    \n",
    "    return predictions, rmse\n",
    "\n",
    "predictions_geo_0, rmse_geo_0 = model_linear(features_train_geo_0, features_valid_geo_0, \n",
    "                                               target_train_geo_0, target_valid_geo_0)\n",
    "predictions_geo_1, rmse_geo_1 = model_linear(features_train_geo_1, features_valid_geo_1, \n",
    "                                               target_train_geo_1, target_valid_geo_1)\n",
    "predictions_geo_2, rmse_geo_2 = model_linear(features_train_geo_2, features_valid_geo_2, \n",
    "                                               target_train_geo_2, target_valid_geo_2)\n",
    "\n",
    "print(\"Средний запас сырья 'geo_0': {:.2f} | RMSE_geo_0: {:.2f}\".format(predictions_geo_0.mean(), rmse_geo_0))\n",
    "print(\"Средний запас сырья 'geo_1': {:.2f} | RMSE_geo_1: {:.2f}\".format(predictions_geo_1.mean(), rmse_geo_1))\n",
    "print(\"Средний запас сырья 'geo_2': {:.2f} | RMSE_geo_2: {:.2f}\".format(predictions_geo_2.mean(), rmse_geo_2))"
   ]
  },
  {
   "cell_type": "markdown",
   "metadata": {},
   "source": [
    "Наиболее большие запасы предсказанного сырья у нас во \"2\" регионе, а наименьшие в \"1\".\n",
    "Однако среднеквадратичная ошибка меньше всего в \"1\" и больше всего во \"2\" регионе.\n",
    "Возможно во \"2\" и \"0\" регионе есть \"чемпионы\", которые тянут их вверх, в то время как \"1\" регион будет примерно одинаков во всех случаях и соответственно ответы с предсказаниями будут ближе друг к другу."
   ]
  },
  {
   "cell_type": "markdown",
   "metadata": {},
   "source": [
    "# <a id='3'>3. Подготовка к расчёту прибыли</a> \n",
    "<a href='#head'>[head]</a>"
   ]
  },
  {
   "cell_type": "code",
   "execution_count": 410,
   "metadata": {},
   "outputs": [
    {
     "name": "stdout",
     "output_type": "stream",
     "text": [
      "Необходимое количество сырья на месторождении для безубыточной добычи: 111.11111111111111\n"
     ]
    }
   ],
   "source": [
    "BUDGET = 10000000000\n",
    "PROFIT_PER_PRODUCT = 450000\n",
    "COUNT_OF_POINTS = 200\n",
    "BASIC_PRODUCT = BUDGET / PROFIT_PER_PRODUCT\n",
    "PRODUCT_PER_POINT = BASIC_PRODUCT / COUNT_OF_POINTS\n",
    "print(\"Необходимое количество сырья на месторождении для безубыточной добычи:\", PRODUCT_PER_POINT)"
   ]
  },
  {
   "cell_type": "markdown",
   "metadata": {},
   "source": [
    "Выходит, что во всех регионах в среднем месторождение превышает необходимый для безубыточности запас."
   ]
  },
  {
   "cell_type": "markdown",
   "metadata": {},
   "source": [
    "# <a id='4'>4. Расчёт прибыли и рисков </a> \n",
    "<a href='#head'>[head]</a>"
   ]
  },
  {
   "cell_type": "code",
   "execution_count": 411,
   "metadata": {},
   "outputs": [
    {
     "name": "stdout",
     "output_type": "stream",
     "text": [
      "Прибыль региона '0' при максимальных показателях: 3359141114.462179\n",
      "Прибыль региона '1' при максимальных показателях: 2415086696.681511\n",
      "Прибыль региона '2' при максимальных показателях: 2598571759.374111\n"
     ]
    }
   ],
   "source": [
    "def profit(data, target):\n",
    "    data = data.sort_values(ascending=False)\n",
    "    top200_profit = target[data.index][:COUNT_OF_POINTS]\n",
    "    profit = (top200_profit.sum() * PROFIT_PER_PRODUCT) - BUDGET\n",
    "    return profit\n",
    "\n",
    "profit_geo_0 = profit(predictions_geo_0, target_valid_geo_0)\n",
    "print(\"Прибыль региона '0' при максимальных показателях:\", profit_geo_0)\n",
    "profit_geo_1 = profit(predictions_geo_1, target_valid_geo_1)\n",
    "print(\"Прибыль региона '1' при максимальных показателях:\", profit_geo_1)\n",
    "profit_geo_2 = profit(predictions_geo_2, target_valid_geo_2)\n",
    "print(\"Прибыль региона '2' при максимальных показателях:\", profit_geo_2)"
   ]
  },
  {
   "cell_type": "markdown",
   "metadata": {},
   "source": [
    "# <a id='5'>5. Bootstrap </a> \n",
    "<a href='#head'>[head]</a>"
   ]
  },
  {
   "cell_type": "code",
   "execution_count": 412,
   "metadata": {
    "scrolled": true
   },
   "outputs": [
    {
     "name": "stdout",
     "output_type": "stream",
     "text": [
      "geo_0\n",
      "Средняя прибыль: 427847560.4625241\n",
      "Нижняя граница доверительного интервала -97249829.56859529\n",
      "Верхняя граница доверительного интервала 954215192.708815\n",
      "Риск убытков 5.50%\n",
      "-----------------------------------------------------------\n",
      "geo_1\n",
      "Средняя прибыль: 511362776.1976853\n",
      "Нижняя граница доверительного интервала 98870649.90277725\n",
      "Верхняя граница доверительного интервала 940720511.6508039\n",
      "Риск убытков 0.90%\n",
      "-----------------------------------------------------------\n",
      "geo_2\n",
      "Средняя прибыль: 402575607.5141956\n",
      "Нижняя граница доверительного интервала -137162225.07193202\n",
      "Верхняя граница доверительного интервала 929887528.0253205\n",
      "Риск убытков 7.40%\n"
     ]
    }
   ],
   "source": [
    "def bootstrap(target, probs):\n",
    "    state = np.random.RandomState(42)\n",
    "    values = []\n",
    "    for i in range(1000):\n",
    "        target_subsample = target.sample(n=500, replace = True, random_state = state)\n",
    "        probs_subsample = probs[target_subsample.index]\n",
    "    \n",
    "        values.append(profit(probs_subsample, target_subsample))\n",
    "\n",
    "    values = pd.Series(values)\n",
    "    lower = values.quantile(0.025) \n",
    "    upper = values.quantile(0.975) \n",
    "    mean = values.mean()\n",
    "    \n",
    "    count = 0\n",
    "    for i in values:\n",
    "        if i < 0:\n",
    "            count += 1\n",
    "    risk = count / 1000 \n",
    "    \n",
    "    return risk, lower, upper, mean\n",
    "\n",
    "risk_geo_0, lower_geo_0, upper_geo_0, mean_geo_0 = bootstrap(target_valid_geo_0, predictions_geo_0)\n",
    "print(\"geo_0\")\n",
    "print(\"Средняя прибыль:\", mean_geo_0)\n",
    "print(\"Нижняя граница доверительного интервала\", lower_geo_0)\n",
    "print(\"Верхняя граница доверительного интервала\", upper_geo_0)\n",
    "print(\"Риск убытков {:.2%}\".format(risk_geo_0))\n",
    "      \n",
    "risk_geo_1, lower_geo_1, upper_geo_1, mean_geo_1 = bootstrap(target_valid_geo_1, predictions_geo_1)\n",
    "print(\"-----------------------------------------------------------\")\n",
    "print(\"geo_1\")\n",
    "print(\"Средняя прибыль:\", mean_geo_1)\n",
    "print(\"Нижняя граница доверительного интервала\", lower_geo_1)\n",
    "print(\"Верхняя граница доверительного интервала\", upper_geo_1)\n",
    "print(\"Риск убытков {:.2%}\".format(risk_geo_1))\n",
    "      \n",
    "risk_geo_2, lower_geo_2, upper_geo_2, mean_geo_2 = bootstrap(target_valid_geo_2, predictions_geo_2)\n",
    "print(\"-----------------------------------------------------------\")\n",
    "print(\"geo_2\")\n",
    "print(\"Средняя прибыль:\", mean_geo_2)\n",
    "print(\"Нижняя граница доверительного интервала\", lower_geo_2)\n",
    "print(\"Верхняя граница доверительного интервала\", upper_geo_2)\n",
    "print(\"Риск убытков {:.2%}\".format(risk_geo_2))"
   ]
  },
  {
   "cell_type": "markdown",
   "metadata": {},
   "source": [
    "# <a id='00'> Вывод </a> \n",
    "<a href='#head'>[head]</a>"
   ]
  },
  {
   "cell_type": "markdown",
   "metadata": {},
   "source": [
    "Выходит наиболее подходящий регион \"1\", на этапе обучения и проверки модели именно в нем мы получили наименьший RMSE, предположив что там более равномерно распределен product, в итоге применения техники bootstrap риск убытков там оказался меньше всех, а средняя прибыль больше, несмотря на наименьший средний запас сырья."
   ]
  }
 ],
 "metadata": {
  "kernelspec": {
   "display_name": "Python 3",
   "language": "python",
   "name": "python3"
  },
  "language_info": {
   "codemirror_mode": {
    "name": "ipython",
    "version": 3
   },
   "file_extension": ".py",
   "mimetype": "text/x-python",
   "name": "python",
   "nbconvert_exporter": "python",
   "pygments_lexer": "ipython3",
   "version": "3.7.6"
  }
 },
 "nbformat": 4,
 "nbformat_minor": 2
}
